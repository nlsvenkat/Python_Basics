{
  "nbformat": 4,
  "nbformat_minor": 0,
  "metadata": {
    "colab": {
      "provenance": []
    },
    "kernelspec": {
      "name": "python3",
      "display_name": "Python 3"
    },
    "language_info": {
      "name": "python"
    }
  },
  "cells": [
    {
      "cell_type": "markdown",
      "metadata": {
        "id": "GcLQDMM6_HjS"
      },
      "source": [
        "#1.python program for printing hello world\n"
      ]
    },
    {
      "cell_type": "markdown",
      "metadata": {
        "id": "cSR6goMcpWS5"
      },
      "source": [
        "Every program is eventually a data processor, so we should know how to input and output data within it. There exists a function, print(), to output data from any Python program. To use it, pass a comma separated list of arguments that you want to print to the print() function. Let's see an example."
      ]
    },
    {
      "cell_type": "markdown",
      "metadata": {
        "id": "Wug4tfBSp9cX"
      },
      "source": [
        "- Now let us print a word \"hello world\""
      ]
    },
    {
      "cell_type": "code",
      "metadata": {
        "colab": {
          "base_uri": "https://localhost:8080/"
        },
        "id": "tvWmDzJTpabW",
        "outputId": "598007be-eaa3-4135-d87f-5b744f0d2111"
      },
      "source": [
        "print(\"hello world\")"
      ],
      "execution_count": null,
      "outputs": [
        {
          "output_type": "stream",
          "text": [
            "hello world\n"
          ],
          "name": "stdout"
        }
      ]
    },
    {
      "cell_type": "markdown",
      "metadata": {
        "id": "2Sg0EnDwpmpg"
      },
      "source": [
        "#2.python program for adding numbers"
      ]
    },
    {
      "cell_type": "markdown",
      "metadata": {
        "id": "Hl9SpcYwpq1b"
      },
      "source": [
        "We can add two numbers by using print() function by placing the numbers inside this function and place an operator(\"+\") between them.To get more clarity look at the program below"
      ]
    },
    {
      "cell_type": "markdown",
      "metadata": {
        "id": "4RIPD64npyi-"
      },
      "source": [
        "- now let us add 2 and 3"
      ]
    },
    {
      "cell_type": "code",
      "metadata": {
        "colab": {
          "base_uri": "https://localhost:8080/"
        },
        "id": "se6x4dFup7xw",
        "outputId": "8ed529a1-077a-4092-9ca4-7616d9b7aa8f"
      },
      "source": [
        "print(2+3)"
      ],
      "execution_count": null,
      "outputs": [
        {
          "output_type": "stream",
          "text": [
            "5\n"
          ],
          "name": "stdout"
        }
      ]
    },
    {
      "cell_type": "markdown",
      "metadata": {
        "id": "15n53OyopM8n"
      },
      "source": [
        "#3.python program for multiplying numbers by taking input from user"
      ]
    },
    {
      "cell_type": "markdown",
      "metadata": {
        "id": "6SyOV2PY_yoi"
      },
      "source": [
        "Every program is eventually a data processor, so we should know how to input and output data within it. There exists a function, print(), to output data from any Python program. To use it, pass a comma separated list of arguments that you want to print to the print() function."
      ]
    },
    {
      "cell_type": "markdown",
      "metadata": {
        "id": "w2Zu5hOgKvJy"
      },
      "source": [
        "To input data into a program, we use input(). This function reads a single line of text, as a String.We can use int(input()) function to take integer as an input."
      ]
    },
    {
      "cell_type": "markdown",
      "metadata": {
        "id": "1R3-Ls5pFZNg"
      },
      "source": [
        "We can multiply two numbers by using print() function by placing the numbers inside this function and place an operator(\"*\") between them.see the program below to get more clear."
      ]
    },
    {
      "cell_type": "markdown",
      "metadata": {
        "id": "IYWtMr6NA76j"
      },
      "source": [
        "- Let's try to write a program that inputs two numbers and prints their product."
      ]
    },
    {
      "cell_type": "code",
      "metadata": {
        "colab": {
          "base_uri": "https://localhost:8080/"
        },
        "id": "S5eqnUp0Azbg",
        "outputId": "5dc9b990-c764-4a18-db11-83f59cdef90a"
      },
      "source": [
        "a=int(input())\n",
        "b=int(input())\n",
        "print(a*b)"
      ],
      "execution_count": null,
      "outputs": [
        {
          "output_type": "stream",
          "text": [
            "2\n",
            "3\n",
            "6\n"
          ],
          "name": "stdout"
        }
      ]
    },
    {
      "cell_type": "markdown",
      "metadata": {
        "id": "6MXSlYtENReB"
      },
      "source": [
        "- Let us see what happend here"
      ]
    },
    {
      "cell_type": "markdown",
      "metadata": {
        "id": "U0OiDzrONaub"
      },
      "source": [
        "We read the two numbers and store them in the variables a and b using the assignment operator \" = \". On the left side of an assignment operator we put the name of the variable. The name could be a string of latin characters (A-Z, a-z, 0-9, _) but must start with a letter in the range A-Z or a-z. On the right side of an assignment operator we put any expression that Python can evaluate. The name starts pointing to the result of the evaluation."
      ]
    }
  ]
}